{
 "cells": [
  {
   "cell_type": "markdown",
   "metadata": {},
   "source": [
    "# F1 Race Prediction\n",
    "#### **Project**: Predicting the results of F1 races based on historical data\n",
    "#### **Context**: The growing F1 industry gets more competitive every year, with performance being more calculated than ever. Would it be possible to predict the results?"
   ]
  },
  {
   "cell_type": "markdown",
   "metadata": {},
   "source": [
    "## 1. Introduction/Business Problem\n",
    "\n",
    "F1 prediction - does engine play a major impact?"
   ]
  },
  {
   "cell_type": "code",
   "execution_count": 5,
   "metadata": {},
   "outputs": [
    {
     "ename": "AttributeError",
     "evalue": "module 'pandas' has no attribute 'core'",
     "output_type": "error",
     "traceback": [
      "\u001b[1;31m---------------------------------------------------------------------------\u001b[0m",
      "\u001b[1;31mAttributeError\u001b[0m                            Traceback (most recent call last)",
      "\u001b[1;32m<ipython-input-5-21840d31c656>\u001b[0m in \u001b[0;36m<module>\u001b[1;34m\u001b[0m\n\u001b[1;32m----> 1\u001b[1;33m \u001b[1;32mimport\u001b[0m \u001b[0mpandas\u001b[0m \u001b[1;32mas\u001b[0m \u001b[0mpd\u001b[0m\u001b[1;33m\u001b[0m\u001b[1;33m\u001b[0m\u001b[0m\n\u001b[0m\u001b[0;32m      2\u001b[0m \u001b[1;32mimport\u001b[0m \u001b[0mnumpy\u001b[0m \u001b[1;32mas\u001b[0m \u001b[0mnp\u001b[0m\u001b[1;33m\u001b[0m\u001b[1;33m\u001b[0m\u001b[0m\n\u001b[0;32m      3\u001b[0m \u001b[1;33m\u001b[0m\u001b[0m\n\u001b[0;32m      4\u001b[0m \u001b[0mcircuits_df\u001b[0m \u001b[1;33m=\u001b[0m \u001b[0mpd\u001b[0m\u001b[1;33m.\u001b[0m\u001b[0mread_csv\u001b[0m\u001b[1;33m(\u001b[0m\u001b[1;34mr'C:\\Users\\joaoe\\Documentos\\JP\\JP_GitHub\\formula_1_prediction\\f1db_csv\\circuits.csv'\u001b[0m\u001b[1;33m)\u001b[0m\u001b[1;33m\u001b[0m\u001b[1;33m\u001b[0m\u001b[0m\n\u001b[0;32m      5\u001b[0m \u001b[0mconstructor_results_df\u001b[0m \u001b[1;33m=\u001b[0m \u001b[0mpd\u001b[0m\u001b[1;33m.\u001b[0m\u001b[0mread_csv\u001b[0m\u001b[1;33m(\u001b[0m\u001b[1;34mr'C:\\Users\\joaoe\\Documentos\\JP\\JP_GitHub\\formula_1_prediction\\f1db_csv\\constructor_results.csv'\u001b[0m\u001b[1;33m)\u001b[0m\u001b[1;33m\u001b[0m\u001b[1;33m\u001b[0m\u001b[0m\n",
      "\u001b[1;32m~\\.conda\\envs\\Pytorch\\lib\\site-packages\\pandas\\__init__.py\u001b[0m in \u001b[0;36m<module>\u001b[1;34m\u001b[0m\n\u001b[0;32m    175\u001b[0m \u001b[1;33m\u001b[0m\u001b[0m\n\u001b[0;32m    176\u001b[0m \u001b[1;32mfrom\u001b[0m \u001b[0mpandas\u001b[0m\u001b[1;33m.\u001b[0m\u001b[0mutil\u001b[0m\u001b[1;33m.\u001b[0m\u001b[0m_tester\u001b[0m \u001b[1;32mimport\u001b[0m \u001b[0mtest\u001b[0m\u001b[1;33m\u001b[0m\u001b[1;33m\u001b[0m\u001b[0m\n\u001b[1;32m--> 177\u001b[1;33m \u001b[1;32mimport\u001b[0m \u001b[0mpandas\u001b[0m\u001b[1;33m.\u001b[0m\u001b[0mtesting\u001b[0m\u001b[1;33m\u001b[0m\u001b[1;33m\u001b[0m\u001b[0m\n\u001b[0m\u001b[0;32m    178\u001b[0m \u001b[1;32mimport\u001b[0m \u001b[0mpandas\u001b[0m\u001b[1;33m.\u001b[0m\u001b[0marrays\u001b[0m\u001b[1;33m\u001b[0m\u001b[1;33m\u001b[0m\u001b[0m\n\u001b[0;32m    179\u001b[0m \u001b[1;33m\u001b[0m\u001b[0m\n",
      "\u001b[1;32m~\\.conda\\envs\\Pytorch\\lib\\site-packages\\pandas\\testing.py\u001b[0m in \u001b[0;36m<module>\u001b[1;34m\u001b[0m\n\u001b[0;32m      3\u001b[0m \"\"\"\n\u001b[0;32m      4\u001b[0m \u001b[1;33m\u001b[0m\u001b[0m\n\u001b[1;32m----> 5\u001b[1;33m from pandas._testing import (\n\u001b[0m\u001b[0;32m      6\u001b[0m     \u001b[0massert_extension_array_equal\u001b[0m\u001b[1;33m,\u001b[0m\u001b[1;33m\u001b[0m\u001b[1;33m\u001b[0m\u001b[0m\n\u001b[0;32m      7\u001b[0m     \u001b[0massert_frame_equal\u001b[0m\u001b[1;33m,\u001b[0m\u001b[1;33m\u001b[0m\u001b[1;33m\u001b[0m\u001b[0m\n",
      "\u001b[1;32m~\\.conda\\envs\\Pytorch\\lib\\site-packages\\pandas\\_testing.py\u001b[0m in \u001b[0;36m<module>\u001b[1;34m\u001b[0m\n\u001b[0;32m   2902\u001b[0m \u001b[1;33m\u001b[0m\u001b[0m\n\u001b[0;32m   2903\u001b[0m \u001b[1;33m\u001b[0m\u001b[0m\n\u001b[1;32m-> 2904\u001b[1;33m \u001b[0mcython_table\u001b[0m \u001b[1;33m=\u001b[0m \u001b[0mpd\u001b[0m\u001b[1;33m.\u001b[0m\u001b[0mcore\u001b[0m\u001b[1;33m.\u001b[0m\u001b[0mbase\u001b[0m\u001b[1;33m.\u001b[0m\u001b[0mSelectionMixin\u001b[0m\u001b[1;33m.\u001b[0m\u001b[0m_cython_table\u001b[0m\u001b[1;33m.\u001b[0m\u001b[0mitems\u001b[0m\u001b[1;33m(\u001b[0m\u001b[1;33m)\u001b[0m\u001b[1;33m\u001b[0m\u001b[1;33m\u001b[0m\u001b[0m\n\u001b[0m\u001b[0;32m   2905\u001b[0m \u001b[1;33m\u001b[0m\u001b[0m\n\u001b[0;32m   2906\u001b[0m \u001b[1;33m\u001b[0m\u001b[0m\n",
      "\u001b[1;31mAttributeError\u001b[0m: module 'pandas' has no attribute 'core'"
     ]
    }
   ],
   "source": [
    "import pandas as pd\n",
    "import numpy as np\n",
    "\n",
    "circuits_df = pd.read_csv(r'C:\\Users\\joaoe\\Documentos\\JP\\JP_GitHub\\formula_1_prediction\\f1db_csv\\circuits.csv')\n",
    "constructor_results_df = pd.read_csv(r'C:\\Users\\joaoe\\Documentos\\JP\\JP_GitHub\\formula_1_prediction\\f1db_csv\\constructor_results.csv')\n",
    "constructor_standings_df = pd.read_csv(r'C:\\Users\\joaoe\\Documentos\\JP\\JP_GitHub\\formula_1_prediction\\f1db_csv\\constructor_standings.csv')\n",
    "constructors_df = pd.read_csv(r'C:\\Users\\joaoe\\Documentos\\JP\\JP_GitHub\\formula_1_prediction\\f1db_csv\\constructors.csv')\n",
    "driver_standigs_df = pd.read_csv(r'C:\\Users\\joaoe\\Documentos\\JP\\JP_GitHub\\formula_1_prediction\\f1db_csv\\driver_standings.csv')\n",
    "drivers_df = pd.read_csv(r'C:\\Users\\joaoe\\Documentos\\JP\\JP_GitHub\\formula_1_prediction\\f1db_csv\\drivers.csv')\n",
    "lap_times_df = pd.read_csv(r'C:\\Users\\joaoe\\Documentos\\JP\\JP_GitHub\\formula_1_prediction\\f1db_csv\\lap_times.csv')\n",
    "pit_stops_df = pd.read_csv(r'C:\\Users\\joaoe\\Documentos\\JP\\JP_GitHub\\formula_1_prediction\\f1db_csv\\pit_stops.csv')\n",
    "qualifying_df = pd.read_csv(r'C:\\Users\\joaoe\\Documentos\\JP\\JP_GitHub\\formula_1_prediction\\f1db_csv\\qualifying.csv')\n",
    "races_df = pd.read_csv(r'C:\\Users\\joaoe\\Documentos\\JP\\JP_GitHub\\formula_1_prediction\\f1db_csv\\races.csv')\n",
    "results_df = pd.read_csv(r'C:\\Users\\joaoe\\Documentos\\JP\\JP_GitHub\\formula_1_prediction\\f1db_csv\\results.csv')\n",
    "seasons_df = pd.read_csv(r'C:\\Users\\joaoe\\Documentos\\JP\\JP_GitHub\\formula_1_prediction\\f1db_csv\\seasons.csv')\n",
    "status_df = pd.read_csv(r'C:\\Users\\joaoe\\Documentos\\JP\\JP_GitHub\\formula_1_prediction\\f1db_csv\\status.csv')"
   ]
  },
  {
   "cell_type": "markdown",
   "metadata": {},
   "source": [
    "### Merging races and circuits tables\n"
   ]
  },
  {
   "cell_type": "code",
   "execution_count": null,
   "metadata": {},
   "outputs": [],
   "source": [
    "# Adding a circuit reference to each corresponding circuit Id\n",
    "circuits_dict = circuits_df.set_index('circuitId')['circuitRef'].to_dict()\n",
    "circuits_in_races = races_df.filter(like='circuitId')\n",
    "races_df['Circuit Reference'] = circuits_in_races.replace(circuits_dict)\n",
    "\n",
    "# Adding a circuit location to each corresponding circuit Id\n",
    "circuits_dict = circuits_df.set_index('circuitId')['location'].to_dict()\n",
    "circuits_in_races = races_df.filter(like='circuitId')\n",
    "races_df['Location'] = circuits_in_races.replace(circuits_dict)\n",
    "\n",
    "# Adding a circuit country to each corresponding circuit Id\n",
    "circuits_dict = circuits_df.set_index('circuitId')['country'].to_dict()\n",
    "circuits_in_races = races_df.filter(like='circuitId')\n",
    "races_df['Country'] = circuits_in_races.replace(circuits_dict)\n",
    "\n",
    "# Adding a circuit latitude to each corresponding circuit Id\n",
    "circuits_dict = circuits_df.set_index('circuitId')['lat'].to_dict()\n",
    "circuits_in_races = races_df.filter(like='circuitId')\n",
    "races_df['Latitude'] = circuits_in_races.replace(circuits_dict)\n",
    "\n",
    "# Adding a circuit longitude to each corresponding circuit Id\n",
    "circuits_dict = circuits_df.set_index('circuitId')['lng'].to_dict()\n",
    "circuits_in_races = races_df.filter(like='circuitId')\n",
    "races_df['Longitude'] = circuits_in_races.replace(circuits_dict)\n",
    "\n",
    "\n",
    "# Droping irrelevant columns\n",
    "races_df = races_df.drop(columns=['raceId','time','circuitId'])\n",
    "\n",
    "races_df = races_df[['year', 'date', 'round', 'name', 'Circuit Reference', 'Location', 'Country', 'Latitude','Longitude']]\n",
    "races_df.rename(columns={'round': 'Round','year': 'Year', 'name': 'Name', 'date': 'Date'})"
   ]
  },
  {
   "cell_type": "code",
   "execution_count": null,
   "metadata": {},
   "outputs": [],
   "source": []
  },
  {
   "cell_type": "code",
   "execution_count": null,
   "metadata": {},
   "outputs": [],
   "source": []
  },
  {
   "cell_type": "code",
   "execution_count": null,
   "metadata": {},
   "outputs": [],
   "source": []
  },
  {
   "cell_type": "code",
   "execution_count": null,
   "metadata": {},
   "outputs": [],
   "source": []
  },
  {
   "cell_type": "code",
   "execution_count": null,
   "metadata": {},
   "outputs": [],
   "source": [
    "\n",
    "from selenium import webdriver\n",
    "\n",
    "weather = races_df.iloc[:,[0,1,2]]\n",
    "\n",
    "info = []\n",
    "\n",
    "# read wikipedia tables\n",
    "\n",
    "for link in races.url:\n",
    "    try:\n",
    "        df = pd.read_html(link)[0]\n",
    "        if 'Weather' in list(df.iloc[:,0]):\n",
    "            n = list(df.iloc[:,0]).index('Weather')\n",
    "            info.append(df.iloc[n,1])\n",
    "        else:\n",
    "            df = pd.read_html(link)[1]\n",
    "            if 'Weather' in list(df.iloc[:,0]):\n",
    "                n = list(df.iloc[:,0]).index('Weather')\n",
    "                info.append(df.iloc[n,1])\n",
    "            else:\n",
    "                df = pd.read_html(link)[2]\n",
    "                if 'Weather' in list(df.iloc[:,0]):\n",
    "                    n = list(df.iloc[:,0]).index('Weather')\n",
    "                    info.append(df.iloc[n,1])\n",
    "                else:\n",
    "                    df = pd.read_html(link)[3]\n",
    "                    if 'Weather' in list(df.iloc[:,0]):\n",
    "                        n = list(df.iloc[:,0]).index('Weather')\n",
    "                        info.append(df.iloc[n,1])\n",
    "                    else:\n",
    "                        driver = webdriver.Chrome()\n",
    "                        driver.get(link)\n",
    "\n",
    "                        # click language button\n",
    "                        button = driver.find_element_by_link_text('Italiano')\n",
    "                        button.click()\n",
    "                        \n",
    "                        # find weather in italian with selenium\n",
    "                        \n",
    "                        clima = driver.find_element_by_xpath('//*[@id=\"mw-content-text\"]/div/table[1]/tbody/tr[9]/td').text\n",
    "                        info.append(clima) \n",
    "                                \n",
    "    except:\n",
    "        info.append('not found')\n",
    "\n",
    "# append column with weather information to dataframe  \n",
    "  \n",
    "weather['weather'] = info\n",
    "\n",
    "# set up a dictionary to convert weather information into keywords\n",
    "\n",
    "weather_dict = {'weather_warm': ['soleggiato', 'clear', 'warm', 'hot', 'sunny', 'fine', 'mild', 'sereno'],\n",
    "               'weather_cold': ['cold', 'fresh', 'chilly', 'cool'],\n",
    "               'weather_dry': ['dry', 'asciutto'],\n",
    "               'weather_wet': ['showers', 'wet', 'rain', 'pioggia', 'damp', 'thunderstorms', 'rainy'],\n",
    "               'weather_cloudy': ['overcast', 'nuvoloso', 'clouds', 'cloudy', 'grey', 'coperto']}\n",
    "\n",
    "# map new df according to weather dictionary\n",
    "\n",
    "weather_df = pd.DataFrame(columns = weather_dict.keys())\n",
    "for col in weather_df:\n",
    "    weather_df[col] = weather['weather'].map(lambda x: 1 if any(i in weather_dict[col] for i in x.lower().split()) else 0)\n",
    "   \n",
    "weather_info = pd.concat([weather, weather_df], axis = 1)\n"
   ]
  },
  {
   "cell_type": "code",
   "execution_count": null,
   "metadata": {},
   "outputs": [],
   "source": []
  },
  {
   "cell_type": "code",
   "execution_count": null,
   "metadata": {},
   "outputs": [],
   "source": []
  }
 ],
 "metadata": {
  "kernelspec": {
   "display_name": "Python 3",
   "language": "python",
   "name": "python3"
  },
  "language_info": {
   "codemirror_mode": {
    "name": "ipython",
    "version": 3
   },
   "file_extension": ".py",
   "mimetype": "text/x-python",
   "name": "python",
   "nbconvert_exporter": "python",
   "pygments_lexer": "ipython3",
   "version": "3.7.7"
  }
 },
 "nbformat": 4,
 "nbformat_minor": 4
}
