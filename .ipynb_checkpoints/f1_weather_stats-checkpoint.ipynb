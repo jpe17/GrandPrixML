{
 "cells": [
  {
   "cell_type": "code",
   "execution_count": 1,
   "metadata": {},
   "outputs": [],
   "source": [
    "from bs4 import BeautifulSoup as soup\n",
    "from urllib.request import urlopen as uReq"
   ]
  },
  {
   "cell_type": "code",
   "execution_count": 2,
   "metadata": {},
   "outputs": [],
   "source": [
    "myurl = 'https://f1-facts.com/stats/weather'"
   ]
  },
  {
   "cell_type": "code",
   "execution_count": 3,
   "metadata": {},
   "outputs": [],
   "source": [
    "uClient = uReq(myurl)"
   ]
  },
  {
   "cell_type": "code",
   "execution_count": 4,
   "metadata": {},
   "outputs": [],
   "source": [
    "page_html = uClient.read()"
   ]
  },
  {
   "cell_type": "code",
   "execution_count": 5,
   "metadata": {},
   "outputs": [],
   "source": [
    "page_soup = soup(page_html,\"lxml\")"
   ]
  },
  {
   "cell_type": "code",
   "execution_count": 6,
   "metadata": {},
   "outputs": [],
   "source": [
    "table = page_soup.find(text=\"1950\").find_parent(\"table\")"
   ]
  },
  {
   "cell_type": "code",
   "execution_count": 52,
   "metadata": {},
   "outputs": [
    {
     "ename": "SyntaxError",
     "evalue": "invalid syntax (<ipython-input-52-66ce75aa73fb>, line 19)",
     "output_type": "error",
     "traceback": [
      "\u001b[1;36m  File \u001b[1;32m\"<ipython-input-52-66ce75aa73fb>\"\u001b[1;36m, line \u001b[1;32m19\u001b[0m\n\u001b[1;33m    for i in range(len(years)):if image_list[i][35:38] ==\u001b[0m\n\u001b[1;37m                                ^\u001b[0m\n\u001b[1;31mSyntaxError\u001b[0m\u001b[1;31m:\u001b[0m invalid syntax\n"
     ]
    }
   ],
   "source": [
    "table.findChild(\"a\")['href']\n",
    "table.findChild(\"img\")['src']\n",
    "\n",
    "years = table.findChildren(\"a\")\n",
    "images = table.findChildren(\"img\")\n",
    "\n",
    "import numpy as np\n",
    "year_list=[[] for i in range(len(years))]\n",
    "image_list=[[] for i in range(len(images))]\n",
    "\n",
    "for i in range(len(years)):\n",
    "    for year in years:\n",
    "        year_list[i] = str(year)\n",
    "    \n",
    "for i in range(len(images)):\n",
    "    for image in images:\n",
    "        image_list[i] = str(image)"
   ]
  },
  {
   "cell_type": "code",
   "execution_count": null,
   "metadata": {},
   "outputs": [],
   "source": [
    "for i in range(len(years)):\n",
    "    if image_list[i][35:38] == 'w1.'\n",
    "        image_list == 'Sun'\n",
    "    if image_list[i][35:38] == 'w2.'\n",
    "        image_list == 'Sun and Clouds'        \n",
    "    if image_list[i][35:38] == 'w3.'\n",
    "        image_list == 'Heavy Clouds'\n",
    "    if image_list[i][35:38] == 'w4.'\n",
    "        image_list == 'Sun & Light Rain'\n",
    "    if image_list[i][35:38] == 'w5.'\n",
    "        image_list == 'Heavy Rain'\n",
    "    if image_list[i][35:38] == 'w6.'\n",
    "        image_list == 'Light Rain'\n",
    "    if image_list[i][35:38] == 'w7.'\n",
    "        image_list == 'Sun and Moderate Rain'\n",
    "    if image_list[i][35:38] == 'w8.'\n",
    "        image_list == 'Clouds'\n",
    "    if image_list[i][35:38] == 'w9.'\n",
    "        image_list == 'Moderate Rain'       \n",
    "    if image_list[i][35:38] == 'w10'\n",
    "        image_list == 'Heavy Sun'          "
   ]
  },
  {
   "cell_type": "code",
   "execution_count": null,
   "metadata": {},
   "outputs": [],
   "source": []
  },
  {
   "cell_type": "code",
   "execution_count": null,
   "metadata": {},
   "outputs": [],
   "source": []
  }
 ],
 "metadata": {
  "kernelspec": {
   "display_name": "Python 3",
   "language": "python",
   "name": "python3"
  },
  "language_info": {
   "codemirror_mode": {
    "name": "ipython",
    "version": 3
   },
   "file_extension": ".py",
   "mimetype": "text/x-python",
   "name": "python",
   "nbconvert_exporter": "python",
   "pygments_lexer": "ipython3",
   "version": "3.7.9"
  }
 },
 "nbformat": 4,
 "nbformat_minor": 4
}
